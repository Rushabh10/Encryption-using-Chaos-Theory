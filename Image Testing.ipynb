{
 "cells": [
  {
   "cell_type": "code",
   "execution_count": 63,
   "metadata": {},
   "outputs": [],
   "source": [
    "from tensorflow.keras.preprocessing import image\n",
    "from tensorflow import keras\n",
    "import numpy as np\n",
    "%matplotlib inline\n",
    "import matplotlib.pyplot as plt\n",
    "import matplotlib.image as mpimg\n",
    "from PIL import Image\n",
    "from scipy.integrate import odeint"
   ]
  },
  {
   "cell_type": "code",
   "execution_count": 126,
   "metadata": {},
   "outputs": [
    {
     "data": {
      "text/plain": [
       "(256, 256)"
      ]
     },
     "execution_count": 126,
     "metadata": {},
     "output_type": "execute_result"
    }
   ],
   "source": [
    "path = \"test_img.jpg\"\n",
    "img = Image.open(path);\n",
    "p = np.array(img)\n",
    "p.shape"
   ]
  },
  {
   "cell_type": "code",
   "execution_count": 128,
   "metadata": {},
   "outputs": [
    {
     "data": {
      "image/png": "[encoded data removed]",
      "text/plain": [
       "<Figure size 432x288 with 1 Axes>"
      ]
     },
     "metadata": {
      "needs_background": "light"
     },
     "output_type": "display_data"
    }
   ],
   "source": [
    "imgplot = plt.imshow(p)"
   ]
  },
  {
   "cell_type": "markdown",
   "metadata": {},
   "source": [
    "# Logistic"
   ]
  },
  {
   "cell_type": "code",
   "execution_count": 129,
   "metadata": {},
   "outputs": [],
   "source": [
    "def logistic(r, x):\n",
    "    return r*x*(1-x)\n",
    "\n",
    "n = 10000\n",
    "r = np.linspace(2.5, 4.0, n)\n",
    "iterations = 1000\n",
    "last = 100\n",
    "x = 1e-5*np.ones(n)\n",
    "\n",
    "for i in range(iterations):\n",
    "    x = logistic(r, x)"
   ]
  },
  {
   "cell_type": "code",
   "execution_count": 130,
   "metadata": {},
   "outputs": [
    {
     "data": {
      "text/plain": [
       "0.6223443430967084"
      ]
     },
     "execution_count": 130,
     "metadata": {},
     "output_type": "execute_result"
    }
   ],
   "source": [
    "x[986]"
   ]
  },
  {
   "cell_type": "markdown",
   "metadata": {},
   "source": [
    "# Lorenz"
   ]
  },
  {
   "cell_type": "code",
   "execution_count": 131,
   "metadata": {},
   "outputs": [],
   "source": [
    "def lorenz(in_, t, sigma, b, r):\n",
    "    x = in_[0]\n",
    "    y = in_[1]\n",
    "    z = in_[2]\n",
    "    \n",
    "    return [sigma*(y-x), r*x - y - x*z, x*y - b*z]"
   ]
  },
  {
   "cell_type": "code",
   "execution_count": 132,
   "metadata": {},
   "outputs": [],
   "source": [
    "from scipy.integrate import odeint\n",
    "\n",
    "def get_solution(in_0, tmax, nt, args_tuple):\n",
    "    t = np.linspace(0, tmax, nt)\n",
    "    soln = odeint(lorenz, in_0, t, args=args_tuple).T\n",
    "    return t, soln"
   ]
  },
  {
   "cell_type": "code",
   "execution_count": 133,
   "metadata": {},
   "outputs": [],
   "source": [
    "from mpl_toolkits.mplot3d import Axes3D\n",
    "import seaborn as sns\n",
    "\n",
    "in_0 = [5.0, 5.0, 5.0]\n",
    "t_max = 20\n",
    "t_steps = 30000\n",
    "t, [solx, soly, solz] = get_solution(in_0, t_max, t_steps, \n",
    "                                            (10.0, 8/3, 28))"
   ]
  },
  {
   "cell_type": "code",
   "execution_count": 197,
   "metadata": {},
   "outputs": [],
   "source": [
    "def encrypt(img, key, itera):\n",
    "    \n",
    "    def logistic(r, x):\n",
    "        return r*x*(1-x)\n",
    "\n",
    "    n = 10000\n",
    "    r = np.linspace(2.5, 4.0, n)\n",
    "    iterations = 1000\n",
    "    last = 100\n",
    "    x = 1e-5*np.ones(n)\n",
    "\n",
    "    for i in range(iterations):\n",
    "        x = logistic(r, x)\n",
    "        \n",
    "        \n",
    "    key.append(key[0]*key[1])\n",
    "    def lorenz(in_, t, sigma, b, r):\n",
    "        x = in_[0]\n",
    "        y = in_[1]\n",
    "        z = in_[2]\n",
    "    \n",
    "        return [sigma*(y-x), r*x - y - x*z, x*y - b*z]\n",
    "\n",
    "    def get_solution(in_0, tmax, nt, args_tuple):\n",
    "        t = np.linspace(0, tmax, nt)\n",
    "        soln = odeint(lorenz, in_0, t, args=args_tuple).T\n",
    "        return t, soln\n",
    "    \n",
    "    in_0 = key\n",
    "    t_max = 20\n",
    "    t_steps = 50000000\n",
    "    t, [solx, soly, solz] = get_solution(in_0, t_max, t_steps, \n",
    "                                                (10.0, 8/3, 28))\n",
    "\n",
    "    print(img.shape[1])\n",
    "    tm = np.zeros((img.shape[1], img.shape[1]))\n",
    "    \n",
    "    \n",
    "    for i in range(img.shape[1]):\n",
    "        for j in range(img.shape[1]):\n",
    "            if(i%3 == 0):\n",
    "                tm[i][j] = int(max(solx[itera], -1*solx[itera])*100)\n",
    "            elif(i%3 == 1):\n",
    "                tm[i][j] = int(max(soly[itera], -1*soly[itera])*100)\n",
    "            elif(i%3 == 2):\n",
    "                tm[i][j] = int(max(solz[itera], -1*solz[itera])*100)\n",
    "            itera += 150   \n",
    "   \n",
    "    temp = int(key[0]*key[2]*87435)\n",
    "    temp = temp%1000\n",
    "    log_key = x[temp]\n",
    "    print(\"temp = \", temp)\n",
    "    tm = tm*log_key\n",
    "\n",
    "    tm = tm%256\n",
    "    \n",
    "    print(tm)\n",
    "    \n",
    "    encrypt_img = np.matmul(img, tm)\n",
    "    encrypt_img = np.transpose(encrypt_img)\n",
    "    return encrypt_img"
   ]
  },
  {
   "cell_type": "code",
   "execution_count": 196,
   "metadata": {},
   "outputs": [],
   "source": [
    "def decrypt(e_img, key, itera):\n",
    "    \n",
    "    def logistic(r, x):\n",
    "        return r*x*(1-x)\n",
    "\n",
    "    n = 10000\n",
    "    r = np.linspace(2.5, 4.0, n)\n",
    "    iterations = 1000\n",
    "    last = 100\n",
    "    x = 1e-5*np.ones(n)\n",
    "\n",
    "    for i in range(iterations):\n",
    "        x = logistic(r, x)\n",
    "        \n",
    "    \n",
    "    e_img = np.transpose(e_img)\n",
    "    key.append(key[0]*key[1])\n",
    "    def lorenz(in_, t, sigma, b, r):\n",
    "        x = in_[0]\n",
    "        y = in_[1]\n",
    "        z = in_[2]\n",
    "    \n",
    "        return [sigma*(y-x), r*x - y - x*z, x*y - b*z]\n",
    "\n",
    "    def get_solution(in_0, tmax, nt, args_tuple):\n",
    "        t = np.linspace(0, tmax, nt)\n",
    "        soln = odeint(lorenz, in_0, t, args=args_tuple).T\n",
    "        return t, soln\n",
    "    \n",
    "    in_0 = key\n",
    "    t_max = 20\n",
    "    t_steps = 50000000\n",
    "    t, [solx, soly, solz] = get_solution(in_0, t_max, t_steps, \n",
    "                                                (10.0, 8/3, 28))\n",
    "    \n",
    "    tm = np.zeros((e_img.shape[1], e_img.shape[1]))\n",
    "    \n",
    "    \n",
    "    for i in range(e_img.shape[1]):\n",
    "        for j in range(e_img.shape[1]):\n",
    "            if(i%3 == 0):\n",
    "                tm[i][j] = int(max(solx[itera], -1*solx[itera])*100)\n",
    "            elif(i%3 == 1):\n",
    "                tm[i][j] = int(max(soly[itera], -1*soly[itera])*100)\n",
    "            elif(i%3 == 2):\n",
    "                tm[i][j] = int(max(solz[itera], -1*solz[itera])*100)\n",
    "            itera += 150  \n",
    "            \n",
    "    temp = int(key[0]*key[2]*87435)\n",
    "    temp = temp%1000\n",
    "    log_key = x[temp]\n",
    "    print(\"temp = \", temp)\n",
    "    tm = tm*log_key\n",
    "    tm = tm%256\n",
    "    \n",
    "    print(tm)\n",
    "    print(np.linalg.det(tm))\n",
    "    tm_inv = np.linalg.pinv(tm)\n",
    "    decrypt_img = np.matmul(e_img, tm_inv)\n",
    "    return decrypt_img"
   ]
  },
  {
   "cell_type": "code",
   "execution_count": 189,
   "metadata": {},
   "outputs": [
    {
     "data": {
      "text/plain": [
       "(256, 256)"
      ]
     },
     "execution_count": 189,
     "metadata": {},
     "output_type": "execute_result"
    }
   ],
   "source": [
    "p.shape"
   ]
  },
  {
   "cell_type": "code",
   "execution_count": 198,
   "metadata": {},
   "outputs": [
    {
     "name": "stdout",
     "output_type": "stream",
     "text": [
      "256\n",
      "temp =  320\n",
      "[[186.5135708  187.12110686 187.12110686 ... 229.64863115 229.64863115\n",
      "  229.64863115]\n",
      " [236.71174566 236.71174566 236.71174566 ... 247.0398587  247.64739476\n",
      "  247.64739476]\n",
      " [114.90279659 114.90279659 114.29526052 ...  94.85410656  94.85410656\n",
      "   94.85410656]\n",
      " ...\n",
      " [  7.06311451   7.06311451   7.06311451 ...  31.36455696  31.97209302\n",
      "   31.97209302]\n",
      " [161.91039152 161.30285546 161.30285546 ... 132.14112452 132.14112452\n",
      "  132.14112452]\n",
      " [243.01442449 243.01442449 243.01442449 ... 255.16514572 255.16514572\n",
      "  255.16514572]]\n"
     ]
    },
    {
     "data": {
      "image/png": "[encoded data removed]",
      "text/plain": [
       "<Figure size 432x288 with 1 Axes>"
      ]
     },
     "metadata": {
      "needs_background": "light"
     },
     "output_type": "display_data"
    }
   ],
   "source": [
    "e_img = encrypt(p, [3.0, 8.0], 4000)\n",
    "imgplot = plt.imshow(e_img)"
   ]
  },
  {
   "cell_type": "code",
   "execution_count": 200,
   "metadata": {},
   "outputs": [
    {
     "name": "stdout",
     "output_type": "stream",
     "text": [
      "temp =  320\n",
      "[[186.5135708  187.12110686 187.12110686 ... 229.64863115 229.64863115\n",
      "  229.64863115]\n",
      " [236.71174566 236.71174566 236.71174566 ... 247.0398587  247.64739476\n",
      "  247.64739476]\n",
      " [114.90279659 114.90279659 114.29526052 ...  94.85410656  94.85410656\n",
      "   94.85410656]\n",
      " ...\n",
      " [  7.06311451   7.06311451   7.06311451 ...  31.36455696  31.97209302\n",
      "   31.97209302]\n",
      " [161.91039152 161.30285546 161.30285546 ... 132.14112452 132.14112452\n",
      "  132.14112452]\n",
      " [243.01442449 243.01442449 243.01442449 ... 255.16514572 255.16514572\n",
      "  255.16514572]]\n",
      "-3.291609609565425e+135\n"
     ]
    },
    {
     "data": {
      "image/png": "[encoded data removed]",
      "text/plain": [
       "<Figure size 432x288 with 1 Axes>"
      ]
     },
     "metadata": {
      "needs_background": "light"
     },
     "output_type": "display_data"
    }
   ],
   "source": [
    "d_img = decrypt(e_img, [3.0, 8.0], 4000)\n",
    "imgplot = plt.imshow(d_img)"
   ]
  },
  {
   "cell_type": "code",
   "execution_count": null,
   "metadata": {},
   "outputs": [],
   "source": []
  }
 ],
 "metadata": {
  "kernelspec": {
   "display_name": "Python 3",
   "language": "python",
   "name": "python3"
  },
  "language_info": {
   "codemirror_mode": {
    "name": "ipython",
    "version": 3
   },
   "file_extension": ".py",
   "mimetype": "text/x-python",
   "name": "python",
   "nbconvert_exporter": "python",
   "pygments_lexer": "ipython3",
   "version": "3.7.3"
  }
 },
 "nbformat": 4,
 "nbformat_minor": 2
}
